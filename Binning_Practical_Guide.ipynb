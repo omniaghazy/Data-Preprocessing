{
  "nbformat": 4,
  "nbformat_minor": 0,
  "metadata": {
    "colab": {
      "provenance": [],
      "authorship_tag": "ABX9TyMxVNNxFtBoiwMsk8gqqKDC",
      "include_colab_link": true
    },
    "kernelspec": {
      "name": "python3",
      "display_name": "Python 3"
    },
    "language_info": {
      "name": "python"
    }
  },
  "cells": [
    {
      "cell_type": "markdown",
      "metadata": {
        "id": "view-in-github",
        "colab_type": "text"
      },
      "source": [
        "<a href=\"https://colab.research.google.com/github/omniaghazy/Data-Preprocessing/blob/main/Binning_Practical_Guide.ipynb\" target=\"_parent\"><img src=\"https://colab.research.google.com/assets/colab-badge.svg\" alt=\"Open In Colab\"/></a>"
      ]
    },
    {
      "cell_type": "markdown",
      "source": [
        "\"\"\"\n",
        "# **Binning in Pandas: A Practical Guide**\n",
        "\n",
        "This notebook provides a practical demonstration of Binning (also known as Discretization) in Pandas.\n",
        "Binning is a crucial data preprocessing technique used to transform continuous numerical variables\n",
        "into discrete categorical bins. This is especially useful for understanding data patterns,\n",
        "handling outliers, and preparing data for certain machine learning models like classification algorithms.\n",
        "\n",
        "---"
      ],
      "metadata": {
        "id": "dBv16d7MybL3"
      }
    },
    {
      "cell_type": "markdown",
      "source": [
        "## **1. Importing Libraries**"
      ],
      "metadata": {
        "id": "KgXeLmWqygKd"
      }
    },
    {
      "cell_type": "code",
      "source": [
        "import pandas as pd\n",
        "import numpy as np"
      ],
      "metadata": {
        "id": "sbWx6lfmynTo"
      },
      "execution_count": null,
      "outputs": []
    },
    {
      "cell_type": "markdown",
      "source": [
        "## **2. Creating Sample Data**\n",
        "\n",
        "Let's create a sample DataFrame with numerical columns to demonstrate Binning.\n",
        "We'll imagine we have data about employees."
      ],
      "metadata": {
        "id": "4h_GUL7eyvn_"
      }
    },
    {
      "cell_type": "code",
      "source": [
        "data = {\n",
        "    'Employee_ID': range(1, 16),\n",
        "    'Age': [22, 25, 30, 31, 38, 40, 55, 29, 33, 48, 27, 35, 42, 23, 58],\n",
        "    'Monthly_Salary': [5000, 7500, 4800, 12000, 9000, 15000, 20000, 6000, 8000, 11000, 5500, 10000, 13000, 5200, 18000],\n",
        "    'Years_at_Company': [1, 2, 3, 7, 5, 10, 20, 2, 4, 12, 1, 6, 8, 1, 15]\n",
        "}\n",
        "df = pd.DataFrame(data)\n",
        "\n",
        "print(\"Original DataFrame Head:\")\n",
        "print(df.head())\n",
        "print(\"\\nDataFrame Info:\")\n",
        "df.info()\n",
        "print(\"\\nDataFrame Description (Numerical Columns):\")\n",
        "print(df.describe())"
      ],
      "metadata": {
        "colab": {
          "base_uri": "https://localhost:8080/"
        },
        "id": "fRyXBjfUy1KN",
        "outputId": "a527e53c-7cc1-4680-ffc0-4d4a99511e33"
      },
      "execution_count": null,
      "outputs": [
        {
          "output_type": "stream",
          "name": "stdout",
          "text": [
            "Original DataFrame Head:\n",
            "   Employee_ID  Age  Monthly_Salary  Years_at_Company\n",
            "0            1   22            5000                 1\n",
            "1            2   25            7500                 2\n",
            "2            3   30            4800                 3\n",
            "3            4   31           12000                 7\n",
            "4            5   38            9000                 5\n",
            "\n",
            "DataFrame Info:\n",
            "<class 'pandas.core.frame.DataFrame'>\n",
            "RangeIndex: 15 entries, 0 to 14\n",
            "Data columns (total 4 columns):\n",
            " #   Column            Non-Null Count  Dtype\n",
            "---  ------            --------------  -----\n",
            " 0   Employee_ID       15 non-null     int64\n",
            " 1   Age               15 non-null     int64\n",
            " 2   Monthly_Salary    15 non-null     int64\n",
            " 3   Years_at_Company  15 non-null     int64\n",
            "dtypes: int64(4)\n",
            "memory usage: 612.0 bytes\n",
            "\n",
            "DataFrame Description (Numerical Columns):\n",
            "       Employee_ID        Age  Monthly_Salary  Years_at_Company\n",
            "count    15.000000  15.000000       15.000000         15.000000\n",
            "mean      8.000000  35.733333    10000.000000          6.466667\n",
            "std       4.472136  11.119267     4822.417888          5.680376\n",
            "min       1.000000  22.000000     4800.000000          1.000000\n",
            "25%       4.500000  28.000000     5750.000000          2.000000\n",
            "50%       8.000000  33.000000     9000.000000          5.000000\n",
            "75%      11.500000  41.000000    12500.000000          9.000000\n",
            "max      15.000000  58.000000    20000.000000         20.000000\n"
          ]
        }
      ]
    },
    {
      "cell_type": "markdown",
      "source": [
        "\n",
        "## **3. Binning with `pd.cut()`**\n",
        "\n",
        "`pd.cut()` is used when you want to segment data based on **predefined bin edges** or by creating bins of **equal width**.\n",
        "\n",
        "**Scenario 1: Binning 'Age' into custom, meaningful groups**\n",
        "\n",
        "Let's categorize employees' ages into logical groups: 'Young', 'Adult', 'Senior'."
      ],
      "metadata": {
        "id": "0wrGCWEwy9qJ"
      }
    },
    {
      "cell_type": "code",
      "source": [
        "# Define the bin edges and labels\n",
        "age_bins = [0, 25, 35, 50, df['Age'].max() + 1] # Ensure the last bin includes the max value\n",
        "age_labels = ['Young (<=25)', 'Adult (26-35)', 'Experienced (36-50)', 'Senior (51+)']"
      ],
      "metadata": {
        "id": "vs9A1L0szGIp"
      },
      "execution_count": null,
      "outputs": []
    },
    {
      "cell_type": "code",
      "source": [
        "# Apply pd.cut()\n",
        "df['Age_Category_Cut'] = pd.cut(df['Age'], bins=age_bins, labels=age_labels, right=True, include_lowest=True)\n",
        "\n",
        "print(\"\\nDataFrame with 'Age_Category_Cut':\")\n",
        "print(df[['Employee_ID', 'Age', 'Age_Category_Cut']].head(10))\n",
        "\n",
        "print(\"\\nValue Counts for 'Age_Category_Cut':\")\n",
        "print(df['Age_Category_Cut'].value_counts())"
      ],
      "metadata": {
        "colab": {
          "base_uri": "https://localhost:8080/"
        },
        "id": "fStKnPOIzMrW",
        "outputId": "372acea9-ee0a-434f-85c6-2dc1f6272346"
      },
      "execution_count": null,
      "outputs": [
        {
          "output_type": "stream",
          "name": "stdout",
          "text": [
            "\n",
            "DataFrame with 'Age_Category_Cut':\n",
            "   Employee_ID  Age     Age_Category_Cut\n",
            "0            1   22         Young (<=25)\n",
            "1            2   25         Young (<=25)\n",
            "2            3   30        Adult (26-35)\n",
            "3            4   31        Adult (26-35)\n",
            "4            5   38  Experienced (36-50)\n",
            "5            6   40  Experienced (36-50)\n",
            "6            7   55         Senior (51+)\n",
            "7            8   29        Adult (26-35)\n",
            "8            9   33        Adult (26-35)\n",
            "9           10   48  Experienced (36-50)\n",
            "\n",
            "Value Counts for 'Age_Category_Cut':\n",
            "Age_Category_Cut\n",
            "Adult (26-35)          6\n",
            "Experienced (36-50)    4\n",
            "Young (<=25)           3\n",
            "Senior (51+)           2\n",
            "Name: count, dtype: int64\n"
          ]
        }
      ]
    },
    {
      "cell_type": "markdown",
      "source": [
        "**Scenario 2: Binning 'Monthly_Salary' into 3 equal-width bins**\n",
        "\n",
        "Here, Pandas will automatically determine the bin edges to divide the entire range of 'Monthly_Salary' into 3 equally sized intervals.\n"
      ],
      "metadata": {
        "id": "iUFOpL6WzotJ"
      }
    },
    {
      "cell_type": "code",
      "source": [
        "# Apply pd.cut() with a specified number of bins\n",
        "df['Salary_Category_Equal_Width'] = pd.cut(df['Monthly_Salary'], bins=3, labels=['Low', 'Medium', 'High'])\n",
        "\n",
        "print(\"\\nDataFrame with 'Salary_Category_Equal_Width':\")\n",
        "print(df[['Employee_ID', 'Monthly_Salary', 'Salary_Category_Equal_Width']].head(10))\n",
        "\n",
        "print(\"\\nValue Counts for 'Salary_Category_Equal_Width':\")\n",
        "print(df['Salary_Category_Equal_Width'].value_counts())"
      ],
      "metadata": {
        "colab": {
          "base_uri": "https://localhost:8080/"
        },
        "id": "86V7_mdiztjw",
        "outputId": "db29fa0b-692c-4325-8549-d865e5d0ddce"
      },
      "execution_count": null,
      "outputs": [
        {
          "output_type": "stream",
          "name": "stdout",
          "text": [
            "\n",
            "DataFrame with 'Salary_Category_Equal_Width':\n",
            "   Employee_ID  Monthly_Salary Salary_Category_Equal_Width\n",
            "0            1            5000                         Low\n",
            "1            2            7500                         Low\n",
            "2            3            4800                         Low\n",
            "3            4           12000                      Medium\n",
            "4            5            9000                         Low\n",
            "5            6           15000                        High\n",
            "6            7           20000                        High\n",
            "7            8            6000                         Low\n",
            "8            9            8000                         Low\n",
            "9           10           11000                      Medium\n",
            "\n",
            "Value Counts for 'Salary_Category_Equal_Width':\n",
            "Salary_Category_Equal_Width\n",
            "Low       8\n",
            "Medium    4\n",
            "High      3\n",
            "Name: count, dtype: int64\n"
          ]
        }
      ]
    },
    {
      "cell_type": "markdown",
      "source": [
        "## **4. Binning with `pd.qcut()`**\n",
        "\n",
        "`pd.qcut()` is used when you want to segment data so that **each bin contains approximately the same number of observations (data points)**. This is useful for dealing with skewed distributions or creating percentile-based groups.\n",
        "\n",
        "**Scenario: Binning 'Years_at_Company' into 4 quantile-based groups (Quartiles)**\n",
        "\n",
        "This will divide employees into four groups based on their years at the company, with each group having roughly the same number of employees.\n",
        "\"\"\""
      ],
      "metadata": {
        "id": "lTZNlls1z5P2"
      }
    },
    {
      "cell_type": "code",
      "source": [
        "\n",
        "# Apply pd.qcut() with 4 quantiles\n",
        "# The 'duplicates' parameter handles cases where multiple data points fall on a bin edge.\n",
        "# 'drop' means duplicate edges are removed (default), 'raise' would throw an error, 'keep' keeps them.\n",
        "df['Experience_Quartile'] = pd.qcut(df['Years_at_Company'], q=4, labels=['Q1_New', 'Q2_Mid', 'Q3_Experienced', 'Q4_Veteran'], duplicates='drop')\n",
        "\n",
        "print(\"\\nDataFrame with 'Experience_Quartile':\")\n",
        "print(df[['Employee_ID', 'Years_at_Company', 'Experience_Quartile']].head(10))\n",
        "\n",
        "print(\"\\nValue Counts for 'Experience_Quartile':\")\n",
        "print(df['Experience_Quartile'].value_counts())\n"
      ],
      "metadata": {
        "colab": {
          "base_uri": "https://localhost:8080/"
        },
        "id": "l286gZHh0CNg",
        "outputId": "cb60db8b-fe57-445a-b645-d952f2c6a68b"
      },
      "execution_count": null,
      "outputs": [
        {
          "output_type": "stream",
          "name": "stdout",
          "text": [
            "\n",
            "DataFrame with 'Experience_Quartile':\n",
            "   Employee_ID  Years_at_Company Experience_Quartile\n",
            "0            1                 1              Q1_New\n",
            "1            2                 2              Q1_New\n",
            "2            3                 3              Q2_Mid\n",
            "3            4                 7      Q3_Experienced\n",
            "4            5                 5              Q2_Mid\n",
            "5            6                10          Q4_Veteran\n",
            "6            7                20          Q4_Veteran\n",
            "7            8                 2              Q1_New\n",
            "8            9                 4              Q2_Mid\n",
            "9           10                12          Q4_Veteran\n",
            "\n",
            "Value Counts for 'Experience_Quartile':\n",
            "Experience_Quartile\n",
            "Q1_New            5\n",
            "Q4_Veteran        4\n",
            "Q2_Mid            3\n",
            "Q3_Experienced    3\n",
            "Name: count, dtype: int64\n"
          ]
        }
      ]
    },
    {
      "cell_type": "markdown",
      "source": [
        "# Apply pd.qcut() with 4 quantiles\n",
        "# The 'duplicates' parameter handles cases where multiple data points fall on a bin edge.\n",
        "# 'drop' means duplicate edges are removed (default), 'raise' would throw an error, 'keep' keeps them."
      ],
      "metadata": {
        "id": "h40lLK-h0LRB"
      }
    },
    {
      "cell_type": "code",
      "source": [
        "df['Experience_Quartile'] = pd.qcut(df['Years_at_Company'], q=4, labels=['Q1_New', 'Q2_Mid', 'Q3_Experienced', 'Q4_Veteran'], duplicates='drop')\n",
        "\n",
        "print(\"\\nDataFrame with 'Experience_Quartile':\")\n",
        "print(df[['Employee_ID', 'Years_at_Company', 'Experience_Quartile']].head(10))\n",
        "\n",
        "print(\"\\nValue Counts for 'Experience_Quartile':\")\n",
        "print(df['Experience_Quartile'].value_counts())"
      ],
      "metadata": {
        "colab": {
          "base_uri": "https://localhost:8080/"
        },
        "id": "gh0PhgPV0TIC",
        "outputId": "65643466-2f74-4309-c8f6-7db793ec099e"
      },
      "execution_count": null,
      "outputs": [
        {
          "output_type": "stream",
          "name": "stdout",
          "text": [
            "\n",
            "DataFrame with 'Experience_Quartile':\n",
            "   Employee_ID  Years_at_Company Experience_Quartile\n",
            "0            1                 1              Q1_New\n",
            "1            2                 2              Q1_New\n",
            "2            3                 3              Q2_Mid\n",
            "3            4                 7      Q3_Experienced\n",
            "4            5                 5              Q2_Mid\n",
            "5            6                10          Q4_Veteran\n",
            "6            7                20          Q4_Veteran\n",
            "7            8                 2              Q1_New\n",
            "8            9                 4              Q2_Mid\n",
            "9           10                12          Q4_Veteran\n",
            "\n",
            "Value Counts for 'Experience_Quartile':\n",
            "Experience_Quartile\n",
            "Q1_New            5\n",
            "Q4_Veteran        4\n",
            "Q2_Mid            3\n",
            "Q3_Experienced    3\n",
            "Name: count, dtype: int64\n"
          ]
        }
      ]
    },
    {
      "cell_type": "code",
      "source": [
        "\n",
        "print(\"\\nCheck the bin edges created by pd.qcut():\")\n",
        "# To see the actual bin edges that pd.qcut created, you can access the 'categories' attribute\n",
        "# and then look at the 'interval' objects\n",
        "# This might need a slightly different approach if we want the exact numerical edges easily\n",
        "# print(df['Experience_Quartile'].cat.categories) # This shows the labels\n",
        "\n",
        "# A better way to get the edges for qcut is to not assign labels first and then inspect\n",
        "_, bins_qcut = pd.qcut(df['Years_at_Company'], q=4, retbins=True, duplicates='drop')\n",
        "print(f\"Actual bin edges for Experience_Quartile: {bins_qcut}\")\n",
        "\n"
      ],
      "metadata": {
        "colab": {
          "base_uri": "https://localhost:8080/"
        },
        "id": "rK02EohU0fqj",
        "outputId": "c1369607-eb82-47fc-fda2-3a0790bb5d66"
      },
      "execution_count": null,
      "outputs": [
        {
          "output_type": "stream",
          "name": "stdout",
          "text": [
            "\n",
            "Check the bin edges created by pd.qcut():\n",
            "Actual bin edges for Experience_Quartile: [ 1.  2.  5.  9. 20.]\n"
          ]
        }
      ]
    },
    {
      "cell_type": "markdown",
      "source": [
        "\n",
        "## **5. Why Binning is Important for Classification Models**\n",
        "\n",
        "After Binning, your numerical features are now categorical. This can be beneficial for:\n",
        "\n",
        "* **Interpretability:** It's easier to explain \"employees in the 'Senior' age group\" than \"employees with ages between 51 and 58\".\n",
        "* **Handling Non-linearity:** Some classification models struggle with linear relationships or specific numerical scales. Binning can help capture non-linear patterns by grouping values.\n",
        "* **Robustness to Outliers:** Outliers might fall into the same bin as other values, reducing their disproportionate impact.\n",
        "* **Feature Engineering:** The new categorical features can be directly used in models or one-hot encoded for models that require numerical inputs.\n",
        "\n",
        "Binning is a powerful step in transforming raw data into a format that provides more insights and improves model performance, especially in classification tasks.\n",
        "\n",
        "---\n",
        "\n",
        "## **Conclusion**\n",
        "\n",
        "This notebook demonstrated the practical application of `pd.cut()` and `pd.qcut()` for Binning. By transforming continuous numerical data into discrete categories, we can enhance our data analysis and prepare features more effectively for machine learning models.\n",
        "\n",
        "\"\"\""
      ],
      "metadata": {
        "id": "8GP-GfUR0oig"
      }
    },
    {
      "cell_type": "code",
      "source": [],
      "metadata": {
        "id": "aOddPx790pBK"
      },
      "execution_count": null,
      "outputs": []
    }
  ]
}